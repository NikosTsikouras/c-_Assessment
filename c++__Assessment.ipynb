{
 "cells": [
  {
   "cell_type": "markdown",
   "id": "ba0306a2",
   "metadata": {},
   "source": [
    "The following c++ code was written with c++ 17 version."
   ]
  },
  {
   "cell_type": "code",
   "execution_count": 1,
   "id": "92f6f227",
   "metadata": {
    "scrolled": true
   },
   "outputs": [
    {
     "data": {
      "text/plain": []
     },
     "execution_count": 1,
     "metadata": {},
     "output_type": "execute_result"
    }
   ],
   "source": [
    "//Run this cell before any cell.\n",
    "#include <iostream>\n",
    "#include <unordered_map>\n",
    "#include <vector>\n",
    "#include <string>\n",
    "#include <algorithm>"
   ]
  },
  {
   "cell_type": "code",
   "execution_count": 2,
   "id": "3faaea11",
   "metadata": {
    "scrolled": false
   },
   "outputs": [
    {
     "data": {
      "text/plain": []
     },
     "execution_count": 2,
     "metadata": {},
     "output_type": "execute_result"
    }
   ],
   "source": [
    "//This algorithm corresponds to the Stable Matching Algorithm given in the book\n",
    "//\"Stable Marriage and Its Relation to Other Combinatorial Problems\".\n",
    "//The use of vector of strings has been used instead of just a string since this would have limited us to just 26\n",
    "//people for each group (females and males).\n",
    "//We also use unordered_map because, 1) we dont care about the ordering and 2) its faster than a map.\n",
    "std::unordered_map<std::string,std::string> task_1(std::unordered_map<std::string,std::vector<std::string>> p1, std::unordered_map<std::string,std::vector<std::string>> p2)\n",
    "{\n",
    "    //initialising k as in the pseudocode.\n",
    "    int k = 0;\n",
    "    \n",
    "    //Creating a vector with every male and female. Initially it's empty.\n",
    "    std::vector<std::string> male;\n",
    "    std::vector<std::string> female;\n",
    "    \n",
    "    \n",
    "    //Populating the male vector.\n",
    "    for(const auto& p : p1)\n",
    "    {\n",
    "        male.push_back(p.first);\n",
    "    }\n",
    "    \n",
    "    //Populating the female vector.\n",
    "    for(const auto& p : p2)\n",
    "    {\n",
    "        female.push_back(p.first);\n",
    "    }\n",
    "    \n",
    "    //Initialising n as in the pseudocode.\n",
    "    int n = p1[male[1]].size();\n",
    "    \n",
    "    //Adding the very undesirable man as the last one to the female preferences.\n",
    "    for(int j = 0; j<=n-1; j++)\n",
    "    {\n",
    "        p2[female[j]].push_back(\"O\");\n",
    "    }\n",
    "    \n",
    "    \n",
    "    //Creating the matching.\n",
    "    std::unordered_map<std::string, std::string> matching;\n",
    "    \n",
    "    //Matching every female with the undesirable man\n",
    "    for(int i = 0; i<=n-1; i++)\n",
    "    {\n",
    "        matching[female[i]] = \"O\";\n",
    "    }\n",
    "    \n",
    "    //This corresponds to while k < n in the pseudocode.\n",
    "    for(int k = 0; k<n;)\n",
    "    {\n",
    "        //Initialising X as the k man. Note that we don't use (k+1) as in the pseudocode as c++ indexing starts from 0\n",
    "        std::string X = male[k];\n",
    "        //This corresponds to while X not equal to O\n",
    "        for(;X!=\"O\";)\n",
    "        {\n",
    "            //Make x as the best choice remaining on male X's preferences.\n",
    "            std::string x_curr= p1[X][0];\n",
    "            \n",
    "            //See if x prefers X to her current fiance.\n",
    "            auto pre_ind1 = std::find(p2[x_curr].begin(),p2[x_curr].end(),X);\n",
    "            int ind1 = std::distance(p2[x_curr].begin(),pre_ind1);\n",
    "            \n",
    "            auto pre_ind2 = std::find(p2[x_curr].begin(),p2[x_curr].end(),matching[x_curr]);\n",
    "            int ind2 = std::distance(p2[x_curr].begin(),pre_ind2);\n",
    "\n",
    "            //If she does prefer it (ind1<ind2), then engage the male X with female x.\n",
    "            if (ind1 < ind2)\n",
    "            {\n",
    "                std::string X_old = X;\n",
    "                std::string X_new = matching[x_curr];\n",
    "                //Engage female x with male X\n",
    "                matching[x_curr] = X;\n",
    "                //Make X the preceding fiance of x\n",
    "                X = X_new;\n",
    "\n",
    "            }\n",
    "            // If X not equal to O (X!= 'O') then withdraw x from X's list\n",
    "            if (X!= \"O\")\n",
    "            {\n",
    "                p1[X].erase(p1[X].begin());\n",
    "            }\n",
    "        }\n",
    "        //Increase k by 1\n",
    "        k = k + 1;\n",
    "        \n",
    "    }\n",
    "    \n",
    "    //We reverse the matching so that the resulting matching corresponds to the book format. Note that this step can be skipped.\n",
    "    std::unordered_map <std::string, std::string> reversed_matching;\n",
    "    for (const auto& p : matching)\n",
    "    {\n",
    "        reversed_matching[p.second] = p.first;\n",
    "    }\n",
    "    return reversed_matching;\n",
    "}"
   ]
  },
  {
   "cell_type": "markdown",
   "id": "71990092",
   "metadata": {},
   "source": [
    "We test the algorithm with Example 3 from the book \"Stable Marriage and Its Relation to Other Combinatorial Problems\", pg. 3. This uses a 5 by 5 preference table for Females and Males. "
   ]
  },
  {
   "cell_type": "code",
   "execution_count": 3,
   "id": "8a2495fa",
   "metadata": {},
   "outputs": [
    {
     "data": {
      "text/plain": [
       "(std::vector &) { \"A\", \"B\", \"C\", \"D\", \"E\" }\n"
      ]
     },
     "execution_count": 3,
     "metadata": {},
     "output_type": "execute_result"
    }
   ],
   "source": [
    "std::unordered_map<std::string,std::vector<std::string>> my_map1_5example\n",
    "{\n",
    "    \n",
    "};\n",
    "my_map1_5example[\"A\"]={\"a\",\"b\",\"c\",\"d\",\"e\"};\n",
    "my_map1_5example[\"B\"]={\"b\",\"c\",\"d\",\"e\",\"a\"};\n",
    "my_map1_5example[\"C\"]={\"c\",\"d\",\"e\",\"a\",\"b\"};\n",
    "my_map1_5example[\"D\"]={\"d\",\"e\",\"a\",\"b\",\"c\"};\n",
    "my_map1_5example[\"E\"]={\"e\",\"a\",\"b\",\"c\",\"d\"};\n",
    "\n",
    "std::unordered_map<std::string,std::vector<std::string>> my_map2_5example\n",
    "{\n",
    "\n",
    "};\n",
    "\n",
    "my_map2_5example[\"a\"]={\"B\",\"C\",\"D\",\"E\",\"A\"};\n",
    "my_map2_5example[\"b\"]={\"C\",\"D\",\"E\",\"A\",\"B\"};\n",
    "my_map2_5example[\"c\"]={\"D\",\"E\",\"A\",\"B\",\"C\"};\n",
    "my_map2_5example[\"d\"]={\"E\",\"A\",\"B\",\"C\",\"D\"};\n",
    "my_map2_5example[\"e\"]={\"A\",\"B\",\"C\",\"D\",\"E\"};"
   ]
  },
  {
   "cell_type": "markdown",
   "id": "9e7aac4b",
   "metadata": {},
   "source": [
    "The output we get does indeed correspond to a Stable Matching. More specifically the first in the list given in the book."
   ]
  },
  {
   "cell_type": "code",
   "execution_count": 4,
   "id": "7f2ddedf",
   "metadata": {},
   "outputs": [
    {
     "data": {
      "text/plain": []
     },
     "execution_count": 4,
     "metadata": {},
     "output_type": "execute_result"
    }
   ],
   "source": [
    "std::unordered_map<std::string,std::string> matching_5 = task_1(my_map1_5example,my_map2_5example);"
   ]
  },
  {
   "cell_type": "code",
   "execution_count": 5,
   "id": "ece723da",
   "metadata": {},
   "outputs": [
    {
     "name": "stdout",
     "output_type": "stream",
     "text": [
      "E : e\n",
      "B : b\n",
      "C : c\n",
      "D : d\n",
      "A : a\n"
     ]
    },
    {
     "data": {
      "text/plain": []
     },
     "execution_count": 5,
     "metadata": {},
     "output_type": "execute_result"
    }
   ],
   "source": [
    "for(auto&p:matching_5)\n",
    "{\n",
    "    std::cout <<p.first<<\" : \"<< p.second<<std::endl;\n",
    "}"
   ]
  },
  {
   "cell_type": "markdown",
   "id": "299b0508",
   "metadata": {},
   "source": [
    "Similarly, we test the algorithm with Example 1 from the book \"Stable Marriage and Its Relation to Other Combinatorial Problems\", pg. 2. This uses a 4 by 4 preference table for Females and Males. "
   ]
  },
  {
   "cell_type": "code",
   "execution_count": 6,
   "id": "c57c5253",
   "metadata": {},
   "outputs": [
    {
     "data": {
      "text/plain": [
       "(std::vector &) { \"B\", \"A\", \"C\", \"D\" }\n"
      ]
     },
     "execution_count": 6,
     "metadata": {},
     "output_type": "execute_result"
    }
   ],
   "source": [
    "std::unordered_map<std::string,std::vector<std::string>> my_map1_4example\n",
    "{\n",
    "    \n",
    "};\n",
    "my_map1_4example[\"A\"]={\"c\",\"b\",\"d\",\"a\"};\n",
    "my_map1_4example[\"B\"]={\"b\",\"a\",\"c\",\"d\"};\n",
    "my_map1_4example[\"C\"]={\"b\",\"d\",\"a\",\"c\"};\n",
    "my_map1_4example[\"D\"]={\"c\",\"a\",\"d\",\"b\"};\n",
    "\n",
    "std::unordered_map<std::string,std::vector<std::string>> my_map2_4example\n",
    "{\n",
    "\n",
    "};\n",
    "\n",
    "my_map2_4example[\"a\"]={\"A\",\"B\",\"D\",\"C\"};\n",
    "my_map2_4example[\"b\"]={\"C\",\"A\",\"D\",\"B\"};\n",
    "my_map2_4example[\"c\"]={\"C\",\"B\",\"D\",\"A\"};\n",
    "my_map2_4example[\"d\"]={\"B\",\"A\",\"C\",\"D\"};\n"
   ]
  },
  {
   "cell_type": "markdown",
   "id": "bab6c4dd",
   "metadata": {},
   "source": [
    "The output we get does indeed correspond to a Stable Matching."
   ]
  },
  {
   "cell_type": "code",
   "execution_count": 7,
   "id": "4a3b227c",
   "metadata": {},
   "outputs": [
    {
     "data": {
      "text/plain": []
     },
     "execution_count": 7,
     "metadata": {},
     "output_type": "execute_result"
    }
   ],
   "source": [
    "std::unordered_map<std::string,std::string> matching_4 = task_1(my_map1_4example,my_map2_4example);"
   ]
  },
  {
   "cell_type": "code",
   "execution_count": 8,
   "id": "e28c653a",
   "metadata": {},
   "outputs": [
    {
     "name": "stdout",
     "output_type": "stream",
     "text": [
      "D : c\n",
      "C : b\n",
      "A : d\n",
      "B : a\n"
     ]
    },
    {
     "data": {
      "text/plain": []
     },
     "execution_count": 8,
     "metadata": {},
     "output_type": "execute_result"
    }
   ],
   "source": [
    "for(auto&p:matching_4)\n",
    "{\n",
    "    std::cout <<p.first<<\" : \"<< p.second<<std::endl;\n",
    "}"
   ]
  },
  {
   "cell_type": "markdown",
   "id": "a0bd3c70",
   "metadata": {},
   "source": [
    "# Task 2"
   ]
  },
  {
   "cell_type": "markdown",
   "id": "311d4427",
   "metadata": {},
   "source": [
    "The algorithm we run here has $4  O(N)$ complexity from the 4 initial loops. $O(2N^2 * \\log(N))$ for the find function, since it is inside a nested double loop and the find function has $O(2\\log(N))$ complexity, (check documentation). Additionally, there is $O(N^2)$ complexity from the erase function, since we have to shift at most $N^2$ items one space to the left. Finally, there is $O(N^2)$ complexity for the double loop itself, as already discussed in the Python assessment. \n",
    "\n",
    "Thus overall the complexity is $$O(N^2*(\\log(N) + 2)),$$ since we care about the fastest growing term and we could thus ignore the initial $4O(N)$ complexity. Note we also ignore the constant $2$ in the $O(2\\log(N))$ term."
   ]
  },
  {
   "cell_type": "markdown",
   "id": "a8198ed1",
   "metadata": {},
   "source": [
    "# Task 3"
   ]
  },
  {
   "attachments": {
    "Untitled%281%29.png": {
     "image/png": "[encoded data removed]"
    }
   },
   "cell_type": "markdown",
   "id": "be369cc3",
   "metadata": {},
   "source": [
    "![Untitled%281%29.png](attachment:Untitled%281%29.png)"
   ]
  }
 ],
 "metadata": {
  "kernelspec": {
   "display_name": "C++17",
   "language": "C++",
   "name": "cling-cpp17"
  },
  "language_info": {
   "codemirror_mode": "c++",
   "file_extension": ".c++",
   "mimetype": "text/x-c++src",
   "name": "c++"
  }
 },
 "nbformat": 4,
 "nbformat_minor": 5
}
